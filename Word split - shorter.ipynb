{
 "cells": [
  {
   "cell_type": "code",
   "execution_count": null,
   "metadata": {},
   "outputs": [],
   "source": [
    "import psycopg2\n",
    "import pandas as pd\n",
    "import os\n",
    "import numpy as np\n",
    "from datetime import datetime, timedelta\n",
    "\n",
    "conn = psycopg2.connect(\n",
    "    host=host,\n",
    "    database=database,\n",
    "    user=user,\n",
    "    password=password)\n",
    "conn.autocommit = True\n",
    "%reload_ext sql_magic"
   ]
  },
  {
   "cell_type": "code",
   "execution_count": null,
   "metadata": {},
   "outputs": [],
   "source": [
    "first_day_current_month =  datetime.today().replace(day=1)\n",
    "last_day_last_month = first_day_current_month - timedelta(days=1)\n",
    "first_day_last_month = last_day_last_month.replace(day=1).strftime(\"%Y-%m-%d\")\n",
    "last_day_last_month = last_day_last_month.strftime(\"%Y-%m-%d\")\n",
    "# parametry = f\"data_wpr::date between '{first_day_last_month}' and '{last_day_last_month}'\""
   ]
  },
  {
   "cell_type": "code",
   "execution_count": null,
   "metadata": {},
   "outputs": [],
   "source": [
    "%%read_sql df -c conn\n",
    "select * from table_to_analyse;"
   ]
  },
  {
   "cell_type": "code",
   "execution_count": null,
   "metadata": {},
   "outputs": [],
   "source": [
    "import nltk\n",
    "from nltk import ngrams\n",
    "\n",
    "raw_text = df.nazwaczynnosci.values\n",
    "\n",
    "def create_ngram(n):\n",
    "    print(\"Wyznaczanie gramów:\", n)\n",
    "    count_dictionary2 = {}\n",
    "    for line in raw_text:\n",
    "        token = nltk.word_tokenize(line)\n",
    "        gram = list(ngrams(token, n)) \n",
    "        fdist = nltk.FreqDist(gram)\n",
    "        for i,j in fdist.items():\n",
    "            key = \" \".join(i)\n",
    "            if key in count_dictionary2.keys():\n",
    "                count_dictionary2[key] += j #add how many times in this record \n",
    "            else:\n",
    "                count_dictionary2[key] = j\n",
    "    df_cnt = pd.DataFrame(count_dictionary2, index=[0])\n",
    "    df_cnt = df_cnt.T\n",
    "    df_cnt = df_cnt.reset_index()\n",
    "    df_cnt.columns = ['Słowa', 'Cnt']\n",
    "    df_cnt = df_cnt.sort_values(by='Cnt', ascending=False)\n",
    "    df_cnt = df_cnt[df_cnt.Cnt>=100]\n",
    "    return df_cnt\n",
    "\n",
    "df_cnt4 = create_ngram(4)\n",
    "df_cnt5 = create_ngram(5)\n",
    "df_cnt6 = create_ngram(6)\n",
    "    \n",
    "with pd.ExcelWriter(f'n-gramy {first_day_last_month} - {last_day_last_month}.xlsx') as writer:  \n",
    "    df_cnt4.to_excel(writer, sheet_name='4-gram', index=False)\n",
    "    df_cnt5.to_excel(writer, sheet_name='5-gram', index=False)\n",
    "    df_cnt6.to_excel(writer, sheet_name='6-gram', index=False)\n"
   ]
  }
 ],
 "metadata": {
  "hide_input": false,
  "kernelspec": {
   "display_name": "Python 3",
   "language": "python",
   "name": "python3"
  },
  "language_info": {
   "codemirror_mode": {
    "name": "ipython",
    "version": 3
   },
   "file_extension": ".py",
   "mimetype": "text/x-python",
   "name": "python",
   "nbconvert_exporter": "python",
   "pygments_lexer": "ipython3",
   "version": "3.7.4"
  }
 },
 "nbformat": 4,
 "nbformat_minor": 2
}
